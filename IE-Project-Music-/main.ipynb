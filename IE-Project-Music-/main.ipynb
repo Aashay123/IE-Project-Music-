{
 "cells": [
  {
   "cell_type": "code",
   "execution_count": 5,
   "metadata": {},
   "outputs": [],
   "source": [
    "import os\n",
    "import json\n",
    "import numpy as np\n",
    "import pandas as pd\n",
    "import tensorflow as tf\n",
    "from tensorflow.keras.models import Sequential\n",
    "from tensorflow.keras.layers import LSTM, Dropout, TimeDistributed, Dense, Activation, Embedding\n",
    "\n",
    "#import all modules."
   ]
  },
  {
   "cell_type": "code",
   "execution_count": 5,
   "metadata": {},
   "outputs": [],
   "source": [
    "#attributes of batch\n",
    "batchSize=16\n",
    "seqLength=64"
   ]
  },
  {
   "cell_type": "code",
   "execution_count": 6,
   "metadata": {},
   "outputs": [],
   "source": [
    "def makeBatch(allChars,uniqueChars):\n",
    "    size=allChars.shape[0]\n",
    "    batchCapacity=int(allChars/batchSize)\n",
    "    \n",
    "    for s in range(0, batchCapacity- seqLength, 64):\n",
    "    \n",
    "        X = np.zeros((batchSize, seqLength))\n",
    "        Y = np.zeros((batchSize, seqLength, uniqueChars))\n",
    "        \n",
    "        for i in range(0,16):\n",
    "            for j in range(0,64):\n",
    "                X[i, j] = all_chars[i * batchCapacity + s + j]\n",
    "                Y[i, j, allChars[i * batchCapacity + s + j + 1]] = 1 \n",
    "        yield X, Y"
   ]
  },
  {
   "cell_type": "code",
   "execution_count": null,
   "metadata": {},
   "outputs": [],
   "source": []
  }
 ],
 "metadata": {
  "kernelspec": {
   "display_name": "Python 3",
   "language": "python",
   "name": "python3"
  },
  "language_info": {
   "codemirror_mode": {
    "name": "ipython",
    "version": 3
   },
   "file_extension": ".py",
   "mimetype": "text/x-python",
   "name": "python",
   "nbconvert_exporter": "python",
   "pygments_lexer": "ipython3",
   "version": "3.6.5"
  }
 },
 "nbformat": 4,
 "nbformat_minor": 2
}
